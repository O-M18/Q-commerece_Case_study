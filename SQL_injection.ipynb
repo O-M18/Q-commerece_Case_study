{
 "cells": [
  {
   "cell_type": "markdown",
   "id": "c806d5d0",
   "metadata": {},
   "source": [
    "## Injecting Data into PostgrelSQL\n"
   ]
  },
  {
   "cell_type": "code",
   "execution_count": 44,
   "id": "6c34229f",
   "metadata": {},
   "outputs": [],
   "source": [
    "import os\n",
    "from dotenv import load_dotenv\n",
    "import psycopg2"
   ]
  },
  {
   "cell_type": "code",
   "execution_count": 45,
   "id": "228eac62",
   "metadata": {},
   "outputs": [],
   "source": [
    "load_dotenv()\n",
    "password=os.getenv('Password')"
   ]
  },
  {
   "cell_type": "code",
   "execution_count": 46,
   "id": "2d46abf9",
   "metadata": {},
   "outputs": [],
   "source": [
    "def get_connection():\n",
    "    return psycopg2.connect(\n",
    "    host=\"localhost\",\n",
    "    port=5432,\n",
    "    user=\"postgres\",\n",
    "    password=password,\n",
    "    database=\"Inventory\")\n"
   ]
  },
  {
   "cell_type": "code",
   "execution_count": 47,
   "id": "932ebdc8",
   "metadata": {},
   "outputs": [
    {
     "data": {
      "text/html": [
       "<div>\n",
       "<style scoped>\n",
       "    .dataframe tbody tr th:only-of-type {\n",
       "        vertical-align: middle;\n",
       "    }\n",
       "\n",
       "    .dataframe tbody tr th {\n",
       "        vertical-align: top;\n",
       "    }\n",
       "\n",
       "    .dataframe thead th {\n",
       "        text-align: right;\n",
       "    }\n",
       "</style>\n",
       "<table border=\"1\" class=\"dataframe\">\n",
       "  <thead>\n",
       "    <tr style=\"text-align: right;\">\n",
       "      <th></th>\n",
       "      <th>Unnamed: 0</th>\n",
       "      <th>date</th>\n",
       "      <th>sku_id</th>\n",
       "      <th>location_id</th>\n",
       "      <th>received_qty</th>\n",
       "      <th>sold_qty</th>\n",
       "      <th>spoiled_qty</th>\n",
       "      <th>closing_qty</th>\n",
       "    </tr>\n",
       "  </thead>\n",
       "  <tbody>\n",
       "    <tr>\n",
       "      <th>0</th>\n",
       "      <td>0</td>\n",
       "      <td>2025-01-01</td>\n",
       "      <td>SKU_1</td>\n",
       "      <td>LOC_1</td>\n",
       "      <td>227</td>\n",
       "      <td>68</td>\n",
       "      <td>0</td>\n",
       "      <td>159</td>\n",
       "    </tr>\n",
       "    <tr>\n",
       "      <th>1</th>\n",
       "      <td>1</td>\n",
       "      <td>2025-01-01</td>\n",
       "      <td>SKU_1</td>\n",
       "      <td>LOC_2</td>\n",
       "      <td>415</td>\n",
       "      <td>124</td>\n",
       "      <td>0</td>\n",
       "      <td>291</td>\n",
       "    </tr>\n",
       "    <tr>\n",
       "      <th>2</th>\n",
       "      <td>2</td>\n",
       "      <td>2025-01-01</td>\n",
       "      <td>SKU_1</td>\n",
       "      <td>LOC_3</td>\n",
       "      <td>333</td>\n",
       "      <td>99</td>\n",
       "      <td>0</td>\n",
       "      <td>234</td>\n",
       "    </tr>\n",
       "  </tbody>\n",
       "</table>\n",
       "</div>"
      ],
      "text/plain": [
       "   Unnamed: 0        date sku_id location_id  received_qty  sold_qty  \\\n",
       "0           0  2025-01-01  SKU_1       LOC_1           227        68   \n",
       "1           1  2025-01-01  SKU_1       LOC_2           415       124   \n",
       "2           2  2025-01-01  SKU_1       LOC_3           333        99   \n",
       "\n",
       "   spoiled_qty  closing_qty  \n",
       "0            0          159  \n",
       "1            0          291  \n",
       "2            0          234  "
      ]
     },
     "execution_count": 47,
     "metadata": {},
     "output_type": "execute_result"
    }
   ],
   "source": [
    "import pandas as pd\n",
    "inventory_df=pd.read_csv('Data/Inventory.csv')\n",
    "inventory_df.head(3)\n"
   ]
  },
  {
   "cell_type": "code",
   "execution_count": 48,
   "id": "b2a0fef3",
   "metadata": {},
   "outputs": [],
   "source": [
    "df_inven=inventory_df.columns[0]\n",
    "inventory_df.drop(columns=df_inven,inplace=True)"
   ]
  },
  {
   "cell_type": "code",
   "execution_count": 49,
   "id": "2b3e1c81",
   "metadata": {},
   "outputs": [
    {
     "data": {
      "text/html": [
       "<div>\n",
       "<style scoped>\n",
       "    .dataframe tbody tr th:only-of-type {\n",
       "        vertical-align: middle;\n",
       "    }\n",
       "\n",
       "    .dataframe tbody tr th {\n",
       "        vertical-align: top;\n",
       "    }\n",
       "\n",
       "    .dataframe thead th {\n",
       "        text-align: right;\n",
       "    }\n",
       "</style>\n",
       "<table border=\"1\" class=\"dataframe\">\n",
       "  <thead>\n",
       "    <tr style=\"text-align: right;\">\n",
       "      <th></th>\n",
       "      <th>date</th>\n",
       "      <th>sku_id</th>\n",
       "      <th>location_id</th>\n",
       "      <th>received_qty</th>\n",
       "      <th>sold_qty</th>\n",
       "      <th>spoiled_qty</th>\n",
       "      <th>closing_qty</th>\n",
       "    </tr>\n",
       "  </thead>\n",
       "  <tbody>\n",
       "    <tr>\n",
       "      <th>0</th>\n",
       "      <td>2025-01-01</td>\n",
       "      <td>SKU_1</td>\n",
       "      <td>LOC_1</td>\n",
       "      <td>227</td>\n",
       "      <td>68</td>\n",
       "      <td>0</td>\n",
       "      <td>159</td>\n",
       "    </tr>\n",
       "    <tr>\n",
       "      <th>1</th>\n",
       "      <td>2025-01-01</td>\n",
       "      <td>SKU_1</td>\n",
       "      <td>LOC_2</td>\n",
       "      <td>415</td>\n",
       "      <td>124</td>\n",
       "      <td>0</td>\n",
       "      <td>291</td>\n",
       "    </tr>\n",
       "    <tr>\n",
       "      <th>2</th>\n",
       "      <td>2025-01-01</td>\n",
       "      <td>SKU_1</td>\n",
       "      <td>LOC_3</td>\n",
       "      <td>333</td>\n",
       "      <td>99</td>\n",
       "      <td>0</td>\n",
       "      <td>234</td>\n",
       "    </tr>\n",
       "    <tr>\n",
       "      <th>3</th>\n",
       "      <td>2025-01-01</td>\n",
       "      <td>SKU_1</td>\n",
       "      <td>LOC_4</td>\n",
       "      <td>206</td>\n",
       "      <td>61</td>\n",
       "      <td>0</td>\n",
       "      <td>145</td>\n",
       "    </tr>\n",
       "    <tr>\n",
       "      <th>4</th>\n",
       "      <td>2025-01-01</td>\n",
       "      <td>SKU_1</td>\n",
       "      <td>LOC_5</td>\n",
       "      <td>198</td>\n",
       "      <td>59</td>\n",
       "      <td>0</td>\n",
       "      <td>139</td>\n",
       "    </tr>\n",
       "  </tbody>\n",
       "</table>\n",
       "</div>"
      ],
      "text/plain": [
       "         date sku_id location_id  received_qty  sold_qty  spoiled_qty  \\\n",
       "0  2025-01-01  SKU_1       LOC_1           227        68            0   \n",
       "1  2025-01-01  SKU_1       LOC_2           415       124            0   \n",
       "2  2025-01-01  SKU_1       LOC_3           333        99            0   \n",
       "3  2025-01-01  SKU_1       LOC_4           206        61            0   \n",
       "4  2025-01-01  SKU_1       LOC_5           198        59            0   \n",
       "\n",
       "   closing_qty  \n",
       "0          159  \n",
       "1          291  \n",
       "2          234  \n",
       "3          145  \n",
       "4          139  "
      ]
     },
     "execution_count": 49,
     "metadata": {},
     "output_type": "execute_result"
    }
   ],
   "source": [
    "inventory_df.head(5)"
   ]
  },
  {
   "cell_type": "code",
   "execution_count": 66,
   "id": "b62e1108",
   "metadata": {},
   "outputs": [
    {
     "data": {
      "text/html": [
       "<div>\n",
       "<style scoped>\n",
       "    .dataframe tbody tr th:only-of-type {\n",
       "        vertical-align: middle;\n",
       "    }\n",
       "\n",
       "    .dataframe tbody tr th {\n",
       "        vertical-align: top;\n",
       "    }\n",
       "\n",
       "    .dataframe thead th {\n",
       "        text-align: right;\n",
       "    }\n",
       "</style>\n",
       "<table border=\"1\" class=\"dataframe\">\n",
       "  <thead>\n",
       "    <tr style=\"text-align: right;\">\n",
       "      <th></th>\n",
       "      <th>Unnamed: 0</th>\n",
       "      <th>sku_id</th>\n",
       "      <th>category</th>\n",
       "      <th>brand</th>\n",
       "      <th>unit</th>\n",
       "      <th>shelf_life</th>\n",
       "      <th>price</th>\n",
       "    </tr>\n",
       "  </thead>\n",
       "  <tbody>\n",
       "    <tr>\n",
       "      <th>0</th>\n",
       "      <td>0</td>\n",
       "      <td>SKU_1</td>\n",
       "      <td>Dairy</td>\n",
       "      <td>Brand_9</td>\n",
       "      <td>litre</td>\n",
       "      <td>30</td>\n",
       "      <td>63.18</td>\n",
       "    </tr>\n",
       "    <tr>\n",
       "      <th>1</th>\n",
       "      <td>1</td>\n",
       "      <td>SKU_2</td>\n",
       "      <td>Home Care</td>\n",
       "      <td>Brand_2</td>\n",
       "      <td>litre</td>\n",
       "      <td>60</td>\n",
       "      <td>291.43</td>\n",
       "    </tr>\n",
       "    <tr>\n",
       "      <th>2</th>\n",
       "      <td>2</td>\n",
       "      <td>SKU_3</td>\n",
       "      <td>Beverages</td>\n",
       "      <td>Brand_1</td>\n",
       "      <td>litre</td>\n",
       "      <td>120</td>\n",
       "      <td>195.81</td>\n",
       "    </tr>\n",
       "  </tbody>\n",
       "</table>\n",
       "</div>"
      ],
      "text/plain": [
       "   Unnamed: 0 sku_id   category    brand   unit  shelf_life   price\n",
       "0           0  SKU_1      Dairy  Brand_9  litre          30   63.18\n",
       "1           1  SKU_2  Home Care  Brand_2  litre          60  291.43\n",
       "2           2  SKU_3  Beverages  Brand_1  litre         120  195.81"
      ]
     },
     "execution_count": 66,
     "metadata": {},
     "output_type": "execute_result"
    }
   ],
   "source": [
    "product_df=pd.read_csv('Data/Products.csv')\n",
    "product_df.head(3)"
   ]
  },
  {
   "cell_type": "code",
   "execution_count": 67,
   "id": "af1a7317",
   "metadata": {},
   "outputs": [
    {
     "data": {
      "text/html": [
       "<div>\n",
       "<style scoped>\n",
       "    .dataframe tbody tr th:only-of-type {\n",
       "        vertical-align: middle;\n",
       "    }\n",
       "\n",
       "    .dataframe tbody tr th {\n",
       "        vertical-align: top;\n",
       "    }\n",
       "\n",
       "    .dataframe thead th {\n",
       "        text-align: right;\n",
       "    }\n",
       "</style>\n",
       "<table border=\"1\" class=\"dataframe\">\n",
       "  <thead>\n",
       "    <tr style=\"text-align: right;\">\n",
       "      <th></th>\n",
       "      <th>sku_id</th>\n",
       "      <th>category</th>\n",
       "      <th>brand</th>\n",
       "      <th>unit</th>\n",
       "      <th>shelf_life</th>\n",
       "      <th>price</th>\n",
       "    </tr>\n",
       "  </thead>\n",
       "  <tbody>\n",
       "    <tr>\n",
       "      <th>0</th>\n",
       "      <td>SKU_1</td>\n",
       "      <td>Dairy</td>\n",
       "      <td>Brand_9</td>\n",
       "      <td>litre</td>\n",
       "      <td>30</td>\n",
       "      <td>63.18</td>\n",
       "    </tr>\n",
       "    <tr>\n",
       "      <th>1</th>\n",
       "      <td>SKU_2</td>\n",
       "      <td>Home Care</td>\n",
       "      <td>Brand_2</td>\n",
       "      <td>litre</td>\n",
       "      <td>60</td>\n",
       "      <td>291.43</td>\n",
       "    </tr>\n",
       "    <tr>\n",
       "      <th>2</th>\n",
       "      <td>SKU_3</td>\n",
       "      <td>Beverages</td>\n",
       "      <td>Brand_1</td>\n",
       "      <td>litre</td>\n",
       "      <td>120</td>\n",
       "      <td>195.81</td>\n",
       "    </tr>\n",
       "  </tbody>\n",
       "</table>\n",
       "</div>"
      ],
      "text/plain": [
       "  sku_id   category    brand   unit  shelf_life   price\n",
       "0  SKU_1      Dairy  Brand_9  litre          30   63.18\n",
       "1  SKU_2  Home Care  Brand_2  litre          60  291.43\n",
       "2  SKU_3  Beverages  Brand_1  litre         120  195.81"
      ]
     },
     "execution_count": 67,
     "metadata": {},
     "output_type": "execute_result"
    }
   ],
   "source": [
    "df_prod=product_df.columns[0]\n",
    "product_df.drop(columns=df_prod,inplace=True)\n",
    "product_df.head(3)"
   ]
  },
  {
   "cell_type": "code",
   "execution_count": 51,
   "id": "0e84dc0d",
   "metadata": {},
   "outputs": [],
   "source": [
    "def query_table(sql_query):\n",
    "    try:\n",
    "    # Create connection\n",
    "        conn = get_connection()\n",
    "\n",
    "        results=pd.read_sql_query(sql_query,conn)\n",
    "\n",
    "        return results\n",
    "\n",
    "    except Exception as e:\n",
    "        print(f\"Error: {e}\")\n",
    "        return []\n",
    "\n",
    "    finally:\n",
    "        if cur:\n",
    "            cur.close()\n",
    "        if conn:\n",
    "            conn.close()"
   ]
  },
  {
   "cell_type": "code",
   "execution_count": 52,
   "id": "165f2d68",
   "metadata": {},
   "outputs": [],
   "source": [
    "def create_table(query):\n",
    "    try:\n",
    "        conn = get_connection()\n",
    "        cur = conn.cursor()\n",
    "        cur.execute(query)\n",
    "        conn.commit()\n",
    "        print(\"Table created.\")\n",
    "    except Exception as e:\n",
    "        print(f\"Create table error: {e}\")\n",
    "    finally:\n",
    "        cur.close()\n",
    "        conn.close()"
   ]
  },
  {
   "cell_type": "code",
   "execution_count": 53,
   "id": "08b665cf",
   "metadata": {},
   "outputs": [],
   "source": [
    "def insert_value(df, query):\n",
    "    df.columns = df.columns.str.strip().str.lower()\n",
    "\n",
    "    try:\n",
    "        conn = get_connection()\n",
    "        cur = conn.cursor()\n",
    "\n",
    "        for _, row in df.iterrows():\n",
    "            values = tuple(row) \n",
    "            cur.execute(query, values)\n",
    "\n",
    "        conn.commit()\n",
    "        print(\"All rows inserted successfully.\")\n",
    "    except Exception as e:\n",
    "        print(f\"Insert error: {e}\")\n",
    "    finally:\n",
    "        cur.close()\n",
    "        conn.close()\n"
   ]
  },
  {
   "cell_type": "code",
   "execution_count": 63,
   "id": "a3157bfa",
   "metadata": {},
   "outputs": [
    {
     "name": "stdout",
     "output_type": "stream",
     "text": [
      "Create table error: relation \"products\" already exists\n",
      "\n"
     ]
    }
   ],
   "source": [
    "create_table(''' create table Products(sku_id varchar(100),\n",
    "             category varchar(150),brand varchar(100),unit varchar(50),shelf_life int,price float)''' )"
   ]
  },
  {
   "cell_type": "code",
   "execution_count": 68,
   "id": "65f411af",
   "metadata": {},
   "outputs": [
    {
     "name": "stdout",
     "output_type": "stream",
     "text": [
      "All rows inserted successfully.\n"
     ]
    }
   ],
   "source": [
    "insert_query=\" INSERT INTO Products (sku_id, category, brand,unit, shelf_life, price) VALUES (%s, %s, %s, %s, %s, %s)\"\n",
    "insert_value(product_df,insert_query)"
   ]
  },
  {
   "cell_type": "code",
   "execution_count": 65,
   "id": "3fdad41a",
   "metadata": {},
   "outputs": [
    {
     "name": "stdout",
     "output_type": "stream",
     "text": [
      "Index(['category', 'brand', 'unit', 'shelf_life', 'price'], dtype='object')\n",
      "(50, 5)\n",
      "('Beverages', 'Brand_7', 'kg', np.int64(120), np.float64(375.24))\n"
     ]
    }
   ],
   "source": [
    "print(product_df.columns)\n",
    "print(product_df.shape)\n",
    "print(tuple(product_df.iloc[0]))\n"
   ]
  },
  {
   "cell_type": "code",
   "execution_count": 56,
   "id": "b171fe83",
   "metadata": {},
   "outputs": [
    {
     "name": "stdout",
     "output_type": "stream",
     "text": [
      "Table created.\n"
     ]
    }
   ],
   "source": [
    "create_table('''CREATE TABLE Inventory(date DATE,sku_id varchar(100),\n",
    "             location_id varchar(100),received_qty int,sold_qty int,spoiled_qty int,closing_qty int)''')"
   ]
  },
  {
   "cell_type": "code",
   "execution_count": 57,
   "id": "e3b95ef1",
   "metadata": {},
   "outputs": [
    {
     "name": "stdout",
     "output_type": "stream",
     "text": [
      "All rows inserted successfully.\n"
     ]
    }
   ],
   "source": [
    "insert_query2=''' INSERT INTO Inventory (date,sku_id,location_id,\n",
    "                received_qty,sold_qty,spoiled_qty,closing_qty) VALUES (%s,%s,%s,%s,%s,%s,%s)'''\n",
    "insert_value(inventory_df,insert_query2)"
   ]
  },
  {
   "cell_type": "code",
   "execution_count": 58,
   "id": "73235c93",
   "metadata": {},
   "outputs": [
    {
     "data": {
      "text/html": [
       "<div>\n",
       "<style scoped>\n",
       "    .dataframe tbody tr th:only-of-type {\n",
       "        vertical-align: middle;\n",
       "    }\n",
       "\n",
       "    .dataframe tbody tr th {\n",
       "        vertical-align: top;\n",
       "    }\n",
       "\n",
       "    .dataframe thead th {\n",
       "        text-align: right;\n",
       "    }\n",
       "</style>\n",
       "<table border=\"1\" class=\"dataframe\">\n",
       "  <thead>\n",
       "    <tr style=\"text-align: right;\">\n",
       "      <th></th>\n",
       "      <th>order_id</th>\n",
       "      <th>sku_id</th>\n",
       "      <th>location_id</th>\n",
       "      <th>date</th>\n",
       "      <th>quantity</th>\n",
       "      <th>unit_price</th>\n",
       "    </tr>\n",
       "  </thead>\n",
       "  <tbody>\n",
       "    <tr>\n",
       "      <th>0</th>\n",
       "      <td>SKU_1_LOC_1_20250101_0</td>\n",
       "      <td>SKU_1</td>\n",
       "      <td>LOC_1</td>\n",
       "      <td>2025-01-01</td>\n",
       "      <td>3</td>\n",
       "      <td>63.18</td>\n",
       "    </tr>\n",
       "    <tr>\n",
       "      <th>1</th>\n",
       "      <td>SKU_1_LOC_1_20250101_1</td>\n",
       "      <td>SKU_1</td>\n",
       "      <td>LOC_1</td>\n",
       "      <td>2025-01-01</td>\n",
       "      <td>5</td>\n",
       "      <td>63.18</td>\n",
       "    </tr>\n",
       "    <tr>\n",
       "      <th>2</th>\n",
       "      <td>SKU_1_LOC_1_20250101_2</td>\n",
       "      <td>SKU_1</td>\n",
       "      <td>LOC_1</td>\n",
       "      <td>2025-01-01</td>\n",
       "      <td>4</td>\n",
       "      <td>63.18</td>\n",
       "    </tr>\n",
       "  </tbody>\n",
       "</table>\n",
       "</div>"
      ],
      "text/plain": [
       "                 order_id sku_id location_id        date  quantity  unit_price\n",
       "0  SKU_1_LOC_1_20250101_0  SKU_1       LOC_1  2025-01-01         3       63.18\n",
       "1  SKU_1_LOC_1_20250101_1  SKU_1       LOC_1  2025-01-01         5       63.18\n",
       "2  SKU_1_LOC_1_20250101_2  SKU_1       LOC_1  2025-01-01         4       63.18"
      ]
     },
     "execution_count": 58,
     "metadata": {},
     "output_type": "execute_result"
    }
   ],
   "source": [
    "df_sales=pd.read_csv('Data/Sales.csv')\n",
    "df_sal_col=df_sales.columns[0]\n",
    "df_sales.drop(columns=df_sal_col,inplace=True)\n",
    "df_sales.head(3)"
   ]
  },
  {
   "cell_type": "code",
   "execution_count": 59,
   "id": "d4e9c6ad",
   "metadata": {},
   "outputs": [
    {
     "name": "stdout",
     "output_type": "stream",
     "text": [
      "<class 'pandas.core.frame.DataFrame'>\n",
      "RangeIndex: 254112 entries, 0 to 254111\n",
      "Data columns (total 6 columns):\n",
      " #   Column       Non-Null Count   Dtype  \n",
      "---  ------       --------------   -----  \n",
      " 0   order_id     254112 non-null  object \n",
      " 1   sku_id       254112 non-null  object \n",
      " 2   location_id  254112 non-null  object \n",
      " 3   date         254112 non-null  object \n",
      " 4   quantity     254112 non-null  int64  \n",
      " 5   unit_price   254112 non-null  float64\n",
      "dtypes: float64(1), int64(1), object(4)\n",
      "memory usage: 11.6+ MB\n"
     ]
    }
   ],
   "source": [
    "df_sales.info()"
   ]
  },
  {
   "cell_type": "code",
   "execution_count": 60,
   "id": "3f2deaad",
   "metadata": {},
   "outputs": [
    {
     "name": "stdout",
     "output_type": "stream",
     "text": [
      "Table created.\n"
     ]
    }
   ],
   "source": [
    "create_table(''' CREATE TABLE Sales (order_id varchar(100),sku_id varchar (100), location_id varchar(100),\n",
    "              date DATE, quantity varchar(100), unit_price float);''')"
   ]
  },
  {
   "cell_type": "code",
   "execution_count": 61,
   "id": "57fbbce5",
   "metadata": {},
   "outputs": [
    {
     "name": "stdout",
     "output_type": "stream",
     "text": [
      "All rows inserted successfully.\n"
     ]
    }
   ],
   "source": [
    "insert_query3=''' INSERT INTO Sales (order_id,sku_id,location_id,date,quantity,unit_price) \n",
    "                VALUES (%s,%s,%s,%s,%s,%s) '''\n",
    "insert_value(df_sales,insert_query3)"
   ]
  },
  {
   "cell_type": "code",
   "execution_count": 69,
   "id": "c8d25a74",
   "metadata": {},
   "outputs": [
    {
     "data": {
      "text/html": [
       "<div>\n",
       "<style scoped>\n",
       "    .dataframe tbody tr th:only-of-type {\n",
       "        vertical-align: middle;\n",
       "    }\n",
       "\n",
       "    .dataframe tbody tr th {\n",
       "        vertical-align: top;\n",
       "    }\n",
       "\n",
       "    .dataframe thead th {\n",
       "        text-align: right;\n",
       "    }\n",
       "</style>\n",
       "<table border=\"1\" class=\"dataframe\">\n",
       "  <thead>\n",
       "    <tr style=\"text-align: right;\">\n",
       "      <th></th>\n",
       "      <th>location_id</th>\n",
       "      <th>zone</th>\n",
       "      <th>store_type</th>\n",
       "      <th>store_area</th>\n",
       "    </tr>\n",
       "  </thead>\n",
       "  <tbody>\n",
       "    <tr>\n",
       "      <th>0</th>\n",
       "      <td>LOC_1</td>\n",
       "      <td>South</td>\n",
       "      <td>Convenience Store</td>\n",
       "      <td>4750</td>\n",
       "    </tr>\n",
       "    <tr>\n",
       "      <th>1</th>\n",
       "      <td>LOC_2</td>\n",
       "      <td>South</td>\n",
       "      <td>Hypermarket</td>\n",
       "      <td>3135</td>\n",
       "    </tr>\n",
       "    <tr>\n",
       "      <th>2</th>\n",
       "      <td>LOC_3</td>\n",
       "      <td>North</td>\n",
       "      <td>Supermarket</td>\n",
       "      <td>1061</td>\n",
       "    </tr>\n",
       "  </tbody>\n",
       "</table>\n",
       "</div>"
      ],
      "text/plain": [
       "  location_id   zone         store_type  store_area\n",
       "0       LOC_1  South  Convenience Store        4750\n",
       "1       LOC_2  South        Hypermarket        3135\n",
       "2       LOC_3  North        Supermarket        1061"
      ]
     },
     "execution_count": 69,
     "metadata": {},
     "output_type": "execute_result"
    }
   ],
   "source": [
    "df_location=pd.read_csv('Data/Location.csv')\n",
    "df_loc=df_location.columns[0]\n",
    "df_location.drop(columns=df_loc,inplace=True)\n",
    "df_location.head(3)"
   ]
  },
  {
   "cell_type": "code",
   "execution_count": 70,
   "id": "f70f3b3d",
   "metadata": {},
   "outputs": [
    {
     "name": "stdout",
     "output_type": "stream",
     "text": [
      "Table created.\n"
     ]
    }
   ],
   "source": [
    "create_table(''' CREATE TABLE Location (location_id varchar(100), zone varchar (100), store_type varchar(100),\n",
    "              store_area varchar(100));''')"
   ]
  },
  {
   "cell_type": "code",
   "execution_count": 72,
   "id": "06996f5d",
   "metadata": {},
   "outputs": [
    {
     "name": "stdout",
     "output_type": "stream",
     "text": [
      "All rows inserted successfully.\n"
     ]
    }
   ],
   "source": [
    "insert_query4=''' INSERT INTO Location (location_id , zone , store_type,store_area) \n",
    "                VALUES (%s,%s,%s,%s) '''\n",
    "insert_value(df_location,insert_query4)"
   ]
  },
  {
   "cell_type": "code",
   "execution_count": 73,
   "id": "3ef405c2",
   "metadata": {},
   "outputs": [
    {
     "data": {
      "text/html": [
       "<div>\n",
       "<style scoped>\n",
       "    .dataframe tbody tr th:only-of-type {\n",
       "        vertical-align: middle;\n",
       "    }\n",
       "\n",
       "    .dataframe tbody tr th {\n",
       "        vertical-align: top;\n",
       "    }\n",
       "\n",
       "    .dataframe thead th {\n",
       "        text-align: right;\n",
       "    }\n",
       "</style>\n",
       "<table border=\"1\" class=\"dataframe\">\n",
       "  <thead>\n",
       "    <tr style=\"text-align: right;\">\n",
       "      <th></th>\n",
       "      <th>sku_id</th>\n",
       "      <th>location_id</th>\n",
       "      <th>start_date</th>\n",
       "      <th>end_date</th>\n",
       "      <th>discount_percentage</th>\n",
       "    </tr>\n",
       "  </thead>\n",
       "  <tbody>\n",
       "    <tr>\n",
       "      <th>0</th>\n",
       "      <td>SKU_1</td>\n",
       "      <td>LOC_5</td>\n",
       "      <td>2025-01-01</td>\n",
       "      <td>2025-01-04</td>\n",
       "      <td>18.0</td>\n",
       "    </tr>\n",
       "    <tr>\n",
       "      <th>1</th>\n",
       "      <td>SKU_3</td>\n",
       "      <td>LOC_2</td>\n",
       "      <td>2025-01-01</td>\n",
       "      <td>2025-01-04</td>\n",
       "      <td>23.0</td>\n",
       "    </tr>\n",
       "    <tr>\n",
       "      <th>2</th>\n",
       "      <td>SKU_6</td>\n",
       "      <td>LOC_2</td>\n",
       "      <td>2025-01-01</td>\n",
       "      <td>2025-01-04</td>\n",
       "      <td>14.0</td>\n",
       "    </tr>\n",
       "  </tbody>\n",
       "</table>\n",
       "</div>"
      ],
      "text/plain": [
       "  sku_id location_id  start_date    end_date  discount_percentage\n",
       "0  SKU_1       LOC_5  2025-01-01  2025-01-04                 18.0\n",
       "1  SKU_3       LOC_2  2025-01-01  2025-01-04                 23.0\n",
       "2  SKU_6       LOC_2  2025-01-01  2025-01-04                 14.0"
      ]
     },
     "execution_count": 73,
     "metadata": {},
     "output_type": "execute_result"
    }
   ],
   "source": [
    "df_promotion=pd.read_csv('Data/Promotion.csv')\n",
    "df_pro=df_promotion.columns[0]\n",
    "df_promotion.drop(columns=df_pro,inplace=True)\n",
    "df_promotion.head(3)"
   ]
  },
  {
   "cell_type": "code",
   "execution_count": 74,
   "id": "241cf9d1",
   "metadata": {},
   "outputs": [
    {
     "name": "stdout",
     "output_type": "stream",
     "text": [
      "Table created.\n"
     ]
    }
   ],
   "source": [
    "create_table(''' CREATE TABLE Promotion (sku_id varchar(100),location_id varchar(100),\n",
    "             start_date DATE, end_date DATE, discount_percentage float);''')"
   ]
  },
  {
   "cell_type": "code",
   "execution_count": 75,
   "id": "a7553fca",
   "metadata": {},
   "outputs": [
    {
     "name": "stdout",
     "output_type": "stream",
     "text": [
      "All rows inserted successfully.\n"
     ]
    }
   ],
   "source": [
    "insert_query5=''' INSERT INTO Promotion (sku_id,location_id,start_date, \n",
    "                end_date, discount_percentage) VALUES (%s,%s,%s,%s,%s) '''\n",
    "insert_value(df_promotion,insert_query5)"
   ]
  },
  {
   "cell_type": "code",
   "execution_count": 76,
   "id": "eec8bc68",
   "metadata": {},
   "outputs": [
    {
     "data": {
      "text/html": [
       "<div>\n",
       "<style scoped>\n",
       "    .dataframe tbody tr th:only-of-type {\n",
       "        vertical-align: middle;\n",
       "    }\n",
       "\n",
       "    .dataframe tbody tr th {\n",
       "        vertical-align: top;\n",
       "    }\n",
       "\n",
       "    .dataframe thead th {\n",
       "        text-align: right;\n",
       "    }\n",
       "</style>\n",
       "<table border=\"1\" class=\"dataframe\">\n",
       "  <thead>\n",
       "    <tr style=\"text-align: right;\">\n",
       "      <th></th>\n",
       "      <th>date</th>\n",
       "      <th>sku_id</th>\n",
       "      <th>location_id</th>\n",
       "      <th>forecast_qty</th>\n",
       "    </tr>\n",
       "  </thead>\n",
       "  <tbody>\n",
       "    <tr>\n",
       "      <th>0</th>\n",
       "      <td>2025-01-01</td>\n",
       "      <td>SKU_1</td>\n",
       "      <td>LOC_1</td>\n",
       "      <td>74</td>\n",
       "    </tr>\n",
       "    <tr>\n",
       "      <th>1</th>\n",
       "      <td>2025-01-01</td>\n",
       "      <td>SKU_1</td>\n",
       "      <td>LOC_2</td>\n",
       "      <td>132</td>\n",
       "    </tr>\n",
       "    <tr>\n",
       "      <th>2</th>\n",
       "      <td>2025-01-01</td>\n",
       "      <td>SKU_1</td>\n",
       "      <td>LOC_3</td>\n",
       "      <td>110</td>\n",
       "    </tr>\n",
       "  </tbody>\n",
       "</table>\n",
       "</div>"
      ],
      "text/plain": [
       "         date sku_id location_id  forecast_qty\n",
       "0  2025-01-01  SKU_1       LOC_1            74\n",
       "1  2025-01-01  SKU_1       LOC_2           132\n",
       "2  2025-01-01  SKU_1       LOC_3           110"
      ]
     },
     "execution_count": 76,
     "metadata": {},
     "output_type": "execute_result"
    }
   ],
   "source": [
    "df_forecast=pd.read_csv('Data/Forecast.csv')\n",
    "df_for=df_forecast.columns[0]\n",
    "df_forecast.drop(columns=df_for,inplace=True)\n",
    "df_forecast.head(3)"
   ]
  },
  {
   "cell_type": "code",
   "execution_count": 77,
   "id": "8b6f52c5",
   "metadata": {},
   "outputs": [
    {
     "name": "stdout",
     "output_type": "stream",
     "text": [
      "Table created.\n"
     ]
    }
   ],
   "source": [
    "create_table(''' CREATE TABLE Forecast(date DATE,sku_id varchar(100),location_id varchar(100),forecast_qty int ) ''')"
   ]
  },
  {
   "cell_type": "code",
   "execution_count": 78,
   "id": "9e7b8500",
   "metadata": {},
   "outputs": [
    {
     "name": "stdout",
     "output_type": "stream",
     "text": [
      "All rows inserted successfully.\n"
     ]
    }
   ],
   "source": [
    "insert_query6=''' INSERT INTO Forecast (date,sku_id,location_id,forecast_qty) VALUES (%s,%s,%s,%s)'''\n",
    "insert_value(df_forecast,insert_query6)"
   ]
  },
  {
   "cell_type": "code",
   "execution_count": null,
   "id": "23b2ff56",
   "metadata": {},
   "outputs": [],
   "source": []
  }
 ],
 "metadata": {
  "kernelspec": {
   "display_name": "venv",
   "language": "python",
   "name": "python3"
  },
  "language_info": {
   "codemirror_mode": {
    "name": "ipython",
    "version": 3
   },
   "file_extension": ".py",
   "mimetype": "text/x-python",
   "name": "python",
   "nbconvert_exporter": "python",
   "pygments_lexer": "ipython3",
   "version": "3.11.2"
  }
 },
 "nbformat": 4,
 "nbformat_minor": 5
}
